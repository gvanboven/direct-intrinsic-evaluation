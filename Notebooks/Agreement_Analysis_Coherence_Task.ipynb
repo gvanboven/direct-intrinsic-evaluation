{
 "cells": [
  {
   "cell_type": "code",
   "execution_count": 1,
   "metadata": {},
   "outputs": [],
   "source": [
    "import os\n",
    "import sys\n",
    "import csv\n",
    "import codecs\n",
    "import math\n",
    "import numpy as np\n",
    "import matplotlib.pyplot as plt\n",
    "import numpy as np\n",
    "from sklearn import datasets\n",
    "import scipy.stats as stats\n",
    "import seaborn as sns\n",
    "import random\n",
    "import copy\n",
    "from itertools import combinations\n",
    "from sklearn.metrics import cohen_kappa_score\n",
    "\n",
    "import pandas as pd"
   ]
  },
  {
   "cell_type": "markdown",
   "metadata": {},
   "source": [
    "# Open data"
   ]
  },
  {
   "cell_type": "code",
   "execution_count": 2,
   "metadata": {},
   "outputs": [],
   "source": [
    "data_files = { \"p1\" : \"..\\\\Test_results\\\\Results_OutDet_participant1.csv\",\n",
    "             \"p2\" : \"..\\\\Test_results\\\\Results_OutDet_participant2.csv\",\n",
    "             }"
   ]
  },
  {
   "cell_type": "code",
   "execution_count": 3,
   "metadata": {},
   "outputs": [],
   "source": [
    "def create_data_list(file, list_name):\n",
    "    with open(file, 'r', encoding=\"utf8\") as csvfile:\n",
    "        reader = csv.reader(csvfile, delimiter = \";\")\n",
    "        count = 0\n",
    "        for n, w2v, n2v, svd, freq, word in reader:\n",
    "            if count > 0:\n",
    "                list_name.append([int(n), int(w2v), int(n2v), int(svd), freq, word])\n",
    "            count += 1"
   ]
  },
  {
   "cell_type": "code",
   "execution_count": 4,
   "metadata": {},
   "outputs": [],
   "source": [
    "#create list of data of both participants\n",
    "p1, p2 = [], []\n",
    "for n, (name, file) in enumerate(data_files.items()):\n",
    "    if n == 0: \n",
    "        create_data_list(file, p1)\n",
    "    else:\n",
    "        create_data_list(file, p2)"
   ]
  },
  {
   "cell_type": "code",
   "execution_count": 5,
   "metadata": {},
   "outputs": [
    {
     "data": {
      "text/html": [
       "<div>\n",
       "<style scoped>\n",
       "    .dataframe tbody tr th:only-of-type {\n",
       "        vertical-align: middle;\n",
       "    }\n",
       "\n",
       "    .dataframe tbody tr th {\n",
       "        vertical-align: top;\n",
       "    }\n",
       "\n",
       "    .dataframe thead th {\n",
       "        text-align: right;\n",
       "    }\n",
       "</style>\n",
       "<table border=\"1\" class=\"dataframe\">\n",
       "  <thead>\n",
       "    <tr style=\"text-align: right;\">\n",
       "      <th></th>\n",
       "      <th>vraagnummer</th>\n",
       "      <th>participant 1</th>\n",
       "      <th>participant 2</th>\n",
       "      <th>word</th>\n",
       "      <th>freq</th>\n",
       "    </tr>\n",
       "  </thead>\n",
       "  <tbody>\n",
       "    <tr>\n",
       "      <th>0</th>\n",
       "      <td>1</td>\n",
       "      <td>1</td>\n",
       "      <td>5</td>\n",
       "      <td>reality</td>\n",
       "      <td>high</td>\n",
       "    </tr>\n",
       "    <tr>\n",
       "      <th>1</th>\n",
       "      <td>2</td>\n",
       "      <td>5</td>\n",
       "      <td>5</td>\n",
       "      <td>reduction</td>\n",
       "      <td>high</td>\n",
       "    </tr>\n",
       "    <tr>\n",
       "      <th>2</th>\n",
       "      <td>3</td>\n",
       "      <td>4</td>\n",
       "      <td>5</td>\n",
       "      <td>dispositions</td>\n",
       "      <td>low</td>\n",
       "    </tr>\n",
       "    <tr>\n",
       "      <th>3</th>\n",
       "      <td>4</td>\n",
       "      <td>3</td>\n",
       "      <td>5</td>\n",
       "      <td>reduction</td>\n",
       "      <td>high</td>\n",
       "    </tr>\n",
       "    <tr>\n",
       "      <th>4</th>\n",
       "      <td>5</td>\n",
       "      <td>1</td>\n",
       "      <td>4</td>\n",
       "      <td>ordered_pair</td>\n",
       "      <td>high</td>\n",
       "    </tr>\n",
       "  </tbody>\n",
       "</table>\n",
       "</div>"
      ],
      "text/plain": [
       "   vraagnummer  participant 1  participant 2          word  freq\n",
       "0            1              1              5       reality  high\n",
       "1            2              5              5     reduction  high\n",
       "2            3              4              5  dispositions   low\n",
       "3            4              3              5     reduction  high\n",
       "4            5              1              4  ordered_pair  high"
      ]
     },
     "execution_count": 5,
     "metadata": {},
     "output_type": "execute_result"
    }
   ],
   "source": [
    "ia_path = \"..\\\\Test_results\\\\outlier_participant_res.csv\"\n",
    "ia_df = pd.read_csv(ia_path, sep=';')\n",
    "ia_df.head()"
   ]
  },
  {
   "cell_type": "code",
   "execution_count": 6,
   "metadata": {},
   "outputs": [],
   "source": [
    "p1_w2v, p1_n2v, p1_svd = [],[],[]\n",
    "p2_w2v, p2_n2v, p2_svd = [], [], []\n",
    "freqs, words = [], []\n",
    "for x, (n, w2v, n2v, svd, freq, word) in enumerate(p1):\n",
    "    p1_w2v.append(w2v)\n",
    "    p1_n2v.append(n2v)\n",
    "    p1_svd.append(svd)\n",
    "    freqs.append(freq)\n",
    "    words.append(word)\n",
    "for x, (n, w2v, n2v, svd, freq, word) in enumerate(p2):\n",
    "    p2_w2v.append(w2v)\n",
    "    p2_n2v.append(n2v)\n",
    "    p2_svd.append(svd)\n",
    "w2v = p1_w2v + p2_w2v\n",
    "n2v = p1_n2v + p2_n2v\n",
    "svd = p1_svd + p2_svd\n",
    "freq_all = freqs + freqs"
   ]
  },
  {
   "cell_type": "code",
   "execution_count": 7,
   "metadata": {},
   "outputs": [],
   "source": [
    "#lists of high and low frequency words per participant\n",
    "p1_high = ia_df[ia_df['freq']=='high']['participant 1'].values\n",
    "p1_low = ia_df[ia_df['freq']=='low']['participant 1'].values\n",
    "p2_high = ia_df[ia_df['freq']=='high']['participant 2'].values\n",
    "p2_low = ia_df[ia_df['freq']=='low']['participant 2'].values"
   ]
  },
  {
   "cell_type": "markdown",
   "metadata": {},
   "source": [
    "# Inter rater agreement scores"
   ]
  },
  {
   "cell_type": "code",
   "execution_count": 8,
   "metadata": {},
   "outputs": [],
   "source": [
    "def joint_probability(df, ann1, ann2):\n",
    "        all_anns = df.columns\n",
    "        if (ann1 not in all_anns or ann2 not in all_anns):\n",
    "            raise ValueError(ANNOTATORS_ERROR + str(list(all_anns)))\n",
    "        df = df.dropna(subset=[ann1, ann2])\n",
    "        ann1_labels = df[ann1].values.tolist()\n",
    "        ann2_labels = df[ann2].values.tolist()\n",
    "        zipped = zip(ann1_labels, ann2_labels)\n",
    "        agree = [1 if label[0] == label[1] else 0 for label in zipped]\n",
    "        return sum(agree) / len(agree)"
   ]
  },
  {
   "cell_type": "code",
   "execution_count": 9,
   "metadata": {},
   "outputs": [],
   "source": [
    "def joint_nozero(ann1, ann2):\n",
    "    zipped = zip(ann1, ann2)\n",
    "    agree = []\n",
    "    for n, label in enumerate(zipped):\n",
    "        if label [0] != 5 and label[1] != 5:\n",
    "            if label[0] == label[1]:\n",
    "                agree.append(1)\n",
    "            else:\n",
    "                agree.append(0)\n",
    "    return sum(agree) / len(agree)\n",
    "\n",
    "def joint_zero(ann1, ann2):\n",
    "        zipped = zip(ann1, ann2)\n",
    "        agree = []\n",
    "        for label in zipped:\n",
    "            if label[0] == 5 or label[1] == 5:\n",
    "                if label[0] == label[1]:\n",
    "                    agree.append(1)\n",
    "                else:\n",
    "                    agree.append(0)\n",
    "        return sum(agree) / len(agree)"
   ]
  },
  {
   "cell_type": "code",
   "execution_count": 10,
   "metadata": {},
   "outputs": [
    {
     "name": "stdout",
     "output_type": "stream",
     "text": [
      "inter rater agreement between participants:\n",
      "joint probability =  0.5666666666666667\n",
      "Cohen's Kappa =  0.34508816120906805\n"
     ]
    }
   ],
   "source": [
    "print(\"inter rater agreement between participants:\")\n",
    "jp = joint_probability(ia_df,'participant 1', 'participant 2')\n",
    "print(\"joint probability = \", jp)\n",
    "ann1 = 'participant 1'\n",
    "ann2 = 'participant 2'\n",
    "ann1_labels = ia_df[ann1].values.tolist()\n",
    "ann2_labels = ia_df[ann2].values.tolist()\n",
    "ck = cohen_kappa_score(ann1_labels, ann2_labels)\n",
    "print(\"Cohen's Kappa = \", ck) "
   ]
  },
  {
   "cell_type": "code",
   "execution_count": 11,
   "metadata": {},
   "outputs": [
    {
     "name": "stdout",
     "output_type": "stream",
     "text": [
      "joint probability for the none option :  0.5128205128205128\n",
      "joint probability for the not-none options :  0.6666666666666666\n",
      "\n",
      "ck for the none option :  -0.1875\n",
      "ck for the not-none options :  0.47122302158273377\n"
     ]
    }
   ],
   "source": [
    "ann1_labels = ia_df['participant 1'].values.tolist()\n",
    "ann2_labels = ia_df['participant 2'].values.tolist()\n",
    "jb_none = joint_zero(ann1_labels, ann2_labels)\n",
    "print(\"joint probability for the none option : \", jb_none)\n",
    "jb_nonone = joint_nozero(ann1_labels, ann2_labels)\n",
    "print(\"joint probability for the not-none options : \", jb_nonone)\n",
    "print()\n",
    "zipped = zip(ann1_labels, ann2_labels)\n",
    "zero_1, zero_2 = [], []\n",
    "no_zero_1, no_zero_2 = [], []\n",
    "for label in zipped:\n",
    "    if label[0] == 5 or label[1] == 5:\n",
    "        zero_1.append(label[0])\n",
    "        zero_2.append(label[1])\n",
    "    else:\n",
    "        no_zero_1.append(label[0])\n",
    "        no_zero_2.append(label[1])\n",
    "ck_zero = cohen_kappa_score(zero_1, zero_2)\n",
    "print(\"ck for the none option : \", ck_zero)\n",
    "ck_no_zero = cohen_kappa_score(no_zero_1, no_zero_2)\n",
    "print(\"ck for the not-none options : \", ck_no_zero)"
   ]
  },
  {
   "cell_type": "code",
   "execution_count": 12,
   "metadata": {},
   "outputs": [],
   "source": [
    "def joint_probability(ann1_labels, ann2_labels):\n",
    "        zipped = zip(ann1_labels, ann2_labels)\n",
    "        agree = [1 if label[0] == label[1] else 0 for label in zipped]\n",
    "        return sum(agree) / len(agree)"
   ]
  },
  {
   "cell_type": "code",
   "execution_count": 13,
   "metadata": {},
   "outputs": [
    {
     "name": "stdout",
     "output_type": "stream",
     "text": [
      "joint probability high frequency words:  0.48148148148148145\n",
      "joint probability low frequency words:  0.6363636363636364\n",
      "\n",
      "high frequency words Cohen's Kappa:  0.20084566596194509\n",
      "low frequency words Cohen's Kappa:  0.4515235457063712\n"
     ]
    }
   ],
   "source": [
    "jb = joint_probability(p1_high, p2_high)#df, 1,2)\n",
    "print(\"joint probability high frequency words: \", jb)\n",
    "jb = joint_probability(p1_low, p2_low)#df, 1,2)\n",
    "print(\"joint probability low frequency words: \", jb)\n",
    "print()\n",
    "ck_high = cohen_kappa_score(p1_high, p2_high)\n",
    "print(\"high frequency words Cohen's Kappa: \", ck_high)\n",
    "ck_low = cohen_kappa_score(p1_low, p2_low)\n",
    "print(\"low frequency words Cohen's Kappa: \", ck_low)"
   ]
  },
  {
   "cell_type": "markdown",
   "metadata": {},
   "source": [
    "# Most and least agreed words"
   ]
  },
  {
   "cell_type": "code",
   "execution_count": 14,
   "metadata": {},
   "outputs": [
    {
     "name": "stdout",
     "output_type": "stream",
     "text": [
      "Words that was agreed upon every time\n",
      "3 objects\n",
      "3 parts\n",
      "3 objects\n",
      "3 mentalistic\n",
      "3 mentalistic\n",
      "3 objects\n",
      "3 mentalistic\n",
      "3 parts\n",
      "3 parts\n"
     ]
    }
   ],
   "source": [
    "agreed_words = list(ia_df[ia_df['participant 1'] ==ia_df['participant 2']]['word'].values)\n",
    "print(\"Words that was agreed upon every time\")\n",
    "for word in agreed_words:\n",
    "    if agreed_words.count(word) == 3:\n",
    "        print(agreed_words.count(word), word)"
   ]
  },
  {
   "cell_type": "code",
   "execution_count": 15,
   "metadata": {},
   "outputs": [
    {
     "name": "stdout",
     "output_type": "stream",
     "text": [
      "words that was disagreed upon every time\n",
      "3 truth_functions\n",
      "3 truth_functions\n",
      "3 about\n",
      "3 about\n",
      "3 truth_functions\n",
      "3 about\n"
     ]
    }
   ],
   "source": [
    "agreed_words = list(ia_df[ia_df['participant 1'] !=ia_df['participant 2']]['word'].values)\n",
    "print(\"words that was disagreed upon every time\")\n",
    "for word in agreed_words:\n",
    "    if agreed_words.count(word) == 3:\n",
    "        print(agreed_words.count(word), word)"
   ]
  }
 ],
 "metadata": {
  "kernelspec": {
   "display_name": "Python 3",
   "language": "python",
   "name": "python3"
  },
  "language_info": {
   "codemirror_mode": {
    "name": "ipython",
    "version": 3
   },
   "file_extension": ".py",
   "mimetype": "text/x-python",
   "name": "python",
   "nbconvert_exporter": "python",
   "pygments_lexer": "ipython3",
   "version": "3.8.5"
  }
 },
 "nbformat": 4,
 "nbformat_minor": 2
}
